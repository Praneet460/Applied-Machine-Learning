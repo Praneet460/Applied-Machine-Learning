{
 "cells": [
  {
   "cell_type": "code",
   "execution_count": 1,
   "metadata": {},
   "outputs": [],
   "source": [
    "## apply logistic regression model on fruit_dataset"
   ]
  },
  {
   "cell_type": "code",
   "execution_count": 11,
   "metadata": {},
   "outputs": [],
   "source": [
    "# make into a binary problem: apples vs everything else\n",
    "import pandas as pd\n",
    "fruits = pd.read_table('fruit_data_with_colors.txt')\n",
    "X_fruits_2d = fruits[['height', 'width']]\n",
    "Y_fruits_2d = fruits['fruit_label']"
   ]
  },
  {
   "cell_type": "code",
   "execution_count": 12,
   "metadata": {},
   "outputs": [],
   "source": [
    "from sklearn.model_selection import train_test_split\n",
    "Y_fruits_apple = Y_fruits_2d == 1   \n",
    "X_train, X_test, Y_train, Y_test = (\n",
    "train_test_split(X_fruits_2d.as_matrix(),\n",
    "                Y_fruits_apple.as_matrix(),\n",
    "                random_state = 0))"
   ]
  },
  {
   "cell_type": "code",
   "execution_count": 13,
   "metadata": {},
   "outputs": [
    {
     "data": {
      "text/plain": [
       "array([[  7.2,   7.2],\n",
       "       [ 10.1,   7.3],\n",
       "       [  4. ,   5.8],\n",
       "       [  7.3,   7.6],\n",
       "       [  7. ,   7.2],\n",
       "       [  8.7,   5.8],\n",
       "       [  7.4,   7. ],\n",
       "       [  7.3,   7.3],\n",
       "       [  8.1,   5.9],\n",
       "       [  7.1,   7.5],\n",
       "       [  7.7,   6.3],\n",
       "       [  9.2,   7.5],\n",
       "       [  7.1,   7.7],\n",
       "       [  4.3,   5.8],\n",
       "       [  8. ,   7.8],\n",
       "       [  7.5,   7.6],\n",
       "       [  8.2,   6. ],\n",
       "       [  7.5,   7.5],\n",
       "       [  7.5,   6. ],\n",
       "       [  7.8,   7.1],\n",
       "       [  7.7,   7.3],\n",
       "       [  9.2,   9.2],\n",
       "       [  7.6,   7.5],\n",
       "       [  8.1,   6.1],\n",
       "       [  8.5,   6.5],\n",
       "       [  8. ,   5.9],\n",
       "       [  7.8,   7.2],\n",
       "       [  6.8,   8. ],\n",
       "       [  7.1,   7. ],\n",
       "       [  9.2,   7.2],\n",
       "       [  9.4,   9. ],\n",
       "       [  4.3,   5.9],\n",
       "       [  7.9,   7.6],\n",
       "       [  7.6,   7.1],\n",
       "       [  7.4,   7.4],\n",
       "       [  7.2,   7.4],\n",
       "       [  7. ,   7.4],\n",
       "       [  7.4,   6.8],\n",
       "       [  8.5,   6.1],\n",
       "       [  4.7,   6.2],\n",
       "       [  7.3,   8.4],\n",
       "       [  8.4,   6. ],\n",
       "       [  9.7,   7.3],\n",
       "       [ 10.5,   7.3]])"
      ]
     },
     "execution_count": 13,
     "metadata": {},
     "output_type": "execute_result"
    }
   ],
   "source": [
    "X_train"
   ]
  },
  {
   "cell_type": "code",
   "execution_count": 14,
   "metadata": {},
   "outputs": [
    {
     "data": {
      "text/plain": [
       "array([False, False, False,  True, False, False, False, False, False,\n",
       "        True, False, False,  True, False, False,  True, False,  True,\n",
       "       False,  True,  True, False,  True, False, False, False, False,\n",
       "        True,  True, False, False, False,  True, False,  True,  True,\n",
       "        True, False, False, False,  True, False, False, False], dtype=bool)"
      ]
     },
     "execution_count": 14,
     "metadata": {},
     "output_type": "execute_result"
    }
   ],
   "source": [
    "Y_train"
   ]
  },
  {
   "cell_type": "code",
   "execution_count": 16,
   "metadata": {},
   "outputs": [],
   "source": [
    "from sklearn.linear_model import LogisticRegression\n",
    "clf = LogisticRegression(C = 100)"
   ]
  },
  {
   "cell_type": "code",
   "execution_count": 17,
   "metadata": {},
   "outputs": [
    {
     "data": {
      "text/plain": [
       "LogisticRegression(C=100, class_weight=None, dual=False, fit_intercept=True,\n",
       "          intercept_scaling=1, max_iter=100, multi_class='ovr', n_jobs=1,\n",
       "          penalty='l2', random_state=None, solver='liblinear', tol=0.0001,\n",
       "          verbose=0, warm_start=False)"
      ]
     },
     "execution_count": 17,
     "metadata": {},
     "output_type": "execute_result"
    }
   ],
   "source": [
    "clf.fit(X_train, Y_train)"
   ]
  },
  {
   "cell_type": "code",
   "execution_count": 18,
   "metadata": {},
   "outputs": [
    {
     "data": {
      "text/plain": [
       "0.77272727272727271"
      ]
     },
     "execution_count": 18,
     "metadata": {},
     "output_type": "execute_result"
    }
   ],
   "source": [
    "## accuracy score on the training dataset\n",
    "clf.score(X_train, Y_train)"
   ]
  },
  {
   "cell_type": "code",
   "execution_count": 19,
   "metadata": {},
   "outputs": [
    {
     "data": {
      "text/plain": [
       "0.73333333333333328"
      ]
     },
     "execution_count": 19,
     "metadata": {},
     "output_type": "execute_result"
    }
   ],
   "source": [
    "## accuracy score on the testing dataset\n",
    "clf.score(X_test, Y_test)"
   ]
  },
  {
   "cell_type": "code",
   "execution_count": 25,
   "metadata": {},
   "outputs": [
    {
     "data": {
      "image/png": "[encoded data removed]",
      "text/plain": [
       "<matplotlib.figure.Figure at 0xed4eb1a668>"
      ]
     },
     "metadata": {},
     "output_type": "display_data"
    }
   ],
   "source": [
    "## plotting the fig.\n",
    "import matplotlib.pyplot as plt\n",
    "from adspy_shared_utilities import (\n",
    "plot_class_regions_for_classifier_subplot)\n",
    "\n",
    "fig, subaxes = plt.subplots(1, 1, figsize=(7, 5))\n",
    "plot_class_regions_for_classifier_subplot(clf, X_train, Y_train, None,\n",
    "                                         None, 'Logistic regression \\\n",
    "for binary classification\\nFruit dataset: Apple vs others',\n",
    "                                         subaxes)\n",
    "subaxes.set_xlabel('height')\n",
    "subaxes.set_ylabel('width')\n",
    "plt.show()"
   ]
  },
  {
   "cell_type": "code",
   "execution_count": null,
   "metadata": {},
   "outputs": [],
   "source": []
  }
 ],
 "metadata": {
  "kernelspec": {
   "display_name": "Python 3",
   "language": "python",
   "name": "python3"
  },
  "language_info": {
   "codemirror_mode": {
    "name": "ipython",
    "version": 3
   },
   "file_extension": ".py",
   "mimetype": "text/x-python",
   "name": "python",
   "nbconvert_exporter": "python",
   "pygments_lexer": "ipython3",
   "version": "3.6.3"
  }
 },
 "nbformat": 4,
 "nbformat_minor": 2
}
